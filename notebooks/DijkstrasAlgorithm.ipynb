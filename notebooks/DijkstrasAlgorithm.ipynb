{
 "cells": [
  {
   "cell_type": "markdown",
   "metadata": {},
   "source": [
    "# Dijkstra’s Algorithm\n",
    "> No this algorithm does not relate to The Witcher's character Dijkstra, The algorithm was created by computer scientist Edsger W. Dijkstra in 1956. This is an algorithm that is used to find the shortest path between nodes in a graph and/or finding the shortest path to a destination node. The Dijkstra Algorithm is implemented within taxi's and SAT navs around the world to find you the shortest path taking into account of traffic and road works when implemented (e.g road networks).  \n",
    "\n",
    "> The algorithm records the distance for a potential shortest path from the start state. The algorithm works at its most effifcient with a priority queue.\n",
    "\n",
    "![algo](https://wikimedia.org/api/rest_v1/media/math/render/svg/b5b41d81785cbda9ed5c08b5040981c760ec1923)\n",
    "\n",
    "> Where |V| is the number of nodes and |E| is the number of edges.\n",
    "\n",
    "## Implementing the Algorithm in Python\n",
    "\n",
    "![pseudocode](https://external-content.duckduckgo.com/iu/?u=http%3A%2F%2Fwww.ssaurel.com%2Fblog%2Fwp-content%2Fuploads%2F2016%2F06%2Fdijkstra_pseudo_code.png&f=1&nofb=1)"
   ]
  },
  {
   "cell_type": "code",
   "execution_count": 148,
   "metadata": {},
   "outputs": [
    {
     "name": "stdout",
     "output_type": "stream",
     "text": [
      "Dijkstra's, Algorithm!\n"
     ]
    }
   ],
   "source": [
    "# Implementing Dijkstra's Algorithm\n",
    "import sys\n",
    "import math\n",
    "# Debug\n",
    "print(\"Dijkstra's, Algorithm!\")"
   ]
  },
  {
   "cell_type": "code",
   "execution_count": 149,
   "metadata": {},
   "outputs": [],
   "source": [
    "# Initialise the data set for the node routes\n",
    "graphDataSet = {\n",
    "\n",
    "'a':{'b':3,'c':4, 'd':7},\n",
    "'b':{'c':1,'f':5},\n",
    "'c':{'f':6,'d':2},\n",
    "'d':{'e':3, 'g':6},\n",
    "'e':{'g':3, 'h':4},\n",
    "'f':{'e':1, 'h':8},\n",
    "'g':{'h':2},\n",
    "'h':{'g':2}\n",
    "}"
   ]
  },
  {
   "cell_type": "code",
   "execution_count": 150,
   "metadata": {},
   "outputs": [
    {
     "name": "stdout",
     "output_type": "stream",
     "text": [
      "Path Options :  dict_items([('b', 3), ('c', 4), ('d', 7)])\n",
      "Nodes being popped:  {'b': 3, 'c': 4, 'd': 7}\n",
      "Path Options :  dict_items([('c', 1), ('f', 5)])\n",
      "Nodes being popped:  {'c': 1, 'f': 5}\n",
      "Path Options :  dict_items([('f', 6), ('d', 2)])\n",
      "Nodes being popped:  {'f': 6, 'd': 2}\n",
      "Path Options :  dict_items([('e', 3), ('g', 6)])\n",
      "Nodes being popped:  {'e': 3, 'g': 6}\n",
      "Path Options :  dict_items([('e', 1), ('h', 8)])\n",
      "Nodes being popped:  {'e': 1, 'h': 8}\n",
      "Path Options :  dict_items([('g', 3), ('h', 4)])\n",
      "Nodes being popped:  {'g': 3, 'h': 4}\n",
      "Path Options :  dict_items([('h', 2)])\n",
      "Nodes being popped:  {'h': 2}\n",
      "Path Options :  dict_items([('g', 2)])\n",
      "Nodes being popped:  {'g': 2}\n",
      "Shortest distance is 13\n",
      "And the path is ['a', 'c', 'd', 'e', 'h']\n"
     ]
    }
   ],
   "source": [
    "# Dijkstra function\n",
    "def dijkstra(graph,start,goal):\n",
    "    # Shortest distance and track predecessirt will constantly be updated \n",
    "    shortest_distance = {} \n",
    "    track_predecessor = {} \n",
    "    unseenNodes = graph \n",
    "    # infinity\n",
    "    infinity = math.inf \n",
    "    # Tracks the journey being taken\n",
    "    track_path = []\n",
    "\n",
    "    # Start state should be 0 and then each other node Infinity\n",
    "    for node in unseenNodes:\n",
    "        shortest_distance[node] = infinity\n",
    "\n",
    "    shortest_distance[start] = 0\n",
    "\n",
    "    # Start of while\n",
    "    # While will run until all nodes in the data set have been visited\n",
    "    while unseenNodes:\n",
    "        min_distance_node = None\n",
    "\n",
    "        for node in unseenNodes:\n",
    "            if min_distance_node is None:\n",
    "                min_distance_node = node\n",
    "\n",
    "            elif shortest_distance[node] < shortest_distance[min_distance_node]:\n",
    "                min_distance_node = node\n",
    "                \n",
    "        # Print the possible paths\n",
    "        path_options = graphDataSet[min_distance_node].items()\n",
    "        print(\"Path Options : \", path_options)\n",
    "\n",
    "        # Must calculate the cost when visiting each node\n",
    "        # if the newly visited node has a lower cost that route is taken\n",
    "        for child_node, weight in path_options:\n",
    "            if weight + shortest_distance[min_distance_node] < shortest_distance[child_node]:\n",
    "                shortest_distance[child_node] = weight + shortest_distance[min_distance_node]\n",
    "                track_predecessor[child_node] = min_distance_node\n",
    "\n",
    "        # Pop() the nodes from the list once they have been visited\n",
    "        print(\"Nodes being popped: \",unseenNodes.pop(min_distance_node))\n",
    "\n",
    "    # Once we reach the destination , retrace steps and calculate values\n",
    "    currentNode = goal\n",
    "\n",
    "    while currentNode != start:\n",
    "        try:\n",
    "            track_path.insert(0,currentNode)\n",
    "            currentNode = track_predecessor[currentNode]\n",
    "        except KeyError:\n",
    "            print('Path not reachable')\n",
    "            break\n",
    "    track_path.insert(0,start)\n",
    "\n",
    "    # If the node value remains as infinity then the destination has not been reached\n",
    "    if shortest_distance[goal] != infinity:\n",
    "        print('Shortest distance is ' + str(shortest_distance[goal]))\n",
    "        print('And the path is ' + str(track_path))\n",
    "\n",
    "# calling dijkstra\n",
    "dijkstra(graphDataSet, 'a', 'h')"
   ]
  },
  {
   "cell_type": "markdown",
   "metadata": {},
   "source": [
    "#### References\n",
    "* [The Computerphile](https://www.youtube.com/watch?v=GazC3A4OQTE)\n",
    "* [GeeksForGeeks](https://www.geeksforgeeks.org/python-program-for-dijkstras-shortest-path-algorithm-greedy-algo-7/)\n",
    "* [Wikipedia Pseudocode](https://en.wikipedia.org/wiki/Dijkstra%27s_algorithm#Pseudocode) "
   ]
  }
 ],
 "metadata": {
  "kernelspec": {
   "display_name": "Python 3",
   "language": "python",
   "name": "python3"
  },
  "language_info": {
   "codemirror_mode": {
    "name": "ipython",
    "version": 3
   },
   "file_extension": ".py",
   "mimetype": "text/x-python",
   "name": "python",
   "nbconvert_exporter": "python",
   "pygments_lexer": "ipython3",
   "version": "3.7.4"
  }
 },
 "nbformat": 4,
 "nbformat_minor": 2
}
