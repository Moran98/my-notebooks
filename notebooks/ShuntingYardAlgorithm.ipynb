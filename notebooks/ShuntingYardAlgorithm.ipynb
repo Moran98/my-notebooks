{
 "cells": [
  {
   "cell_type": "markdown",
   "metadata": {},
   "source": [
    "# Shunting Yard Algorithm\n",
    "For our Graph Theory prject we are advised to use the shunting yard algorithm. The shunting yard algorithm is essentially a method of parsing a mathematical expression in infix notation and producing a profix notation string as a result. \n",
    "\n",
    "### When shunting there are a few requirements :\n",
    "* Infix notation - The string that is being tested\n",
    "* Stack list - This can be initialised as an empty list, later for data to be stored inside.\n",
    "* Queue list - This will also be an empty list. (Act as our output in the end)\n",
    "* Pecedences - Operators will be granted greater precedence than otherts.\n",
    "\n",
    "### List Methods\n",
    "The list methods that we will be using within the shunting yard algorthm will be :\n",
    ">##### Pop()\n",
    ">##### Append()\n",
    "\n",
    "### Pop()\n",
    "Pop removes elements at specified positions when specified. If it is not specified it removes the last element."
   ]
  },
  {
   "cell_type": "code",
   "execution_count": 9,
   "metadata": {},
   "outputs": [
    {
     "name": "stdout",
     "output_type": "stream",
     "text": [
      "[1, 3, 4]\n"
     ]
    }
   ],
   "source": [
    "example_list = [1,2,3,4,5]\n",
    "example_list.pop()\n",
    "example_list.pop(1)\n",
    "print(example_list)"
   ]
  },
  {
   "cell_type": "markdown",
   "metadata": {},
   "source": [
    "### Append()\n",
    "Append adds an element to the end of a list."
   ]
  },
  {
   "cell_type": "code",
   "execution_count": 10,
   "metadata": {},
   "outputs": [
    {
     "name": "stdout",
     "output_type": "stream",
     "text": [
      "[1, 3, 4, 7]\n"
     ]
    }
   ],
   "source": [
    "example_list.append(7)\n",
    "print(example_list)"
   ]
  },
  {
   "cell_type": "markdown",
   "metadata": {},
   "source": [
    "## Shunting Yard Algorithm\n",
    "To see a working example of the shunting yard algorithm you can go to the 'labs' folder within my GitHub directory and in the folder 'shunting' is a Python file which demonstrates the algorithm.\n",
    "> [Shunting](https://github.com/Moran98/graph-theory/tree/master/shunting)"
   ]
  },
  {
   "cell_type": "markdown",
   "metadata": {},
   "source": [
    "### References \n",
    "* Dr. Ian McLoughlin\n",
    "* https://youtu.be/Wz85Hiwi5MY - Video on Shunting Yard algorithm which i found very helpful in my understanding.\n"
   ]
  }
 ],
 "metadata": {
  "kernelspec": {
   "display_name": "Python 3",
   "language": "python",
   "name": "python3"
  },
  "language_info": {
   "codemirror_mode": {
    "name": "ipython",
    "version": 3
   },
   "file_extension": ".py",
   "mimetype": "text/x-python",
   "name": "python",
   "nbconvert_exporter": "python",
   "pygments_lexer": "ipython3",
   "version": "3.7.4"
  }
 },
 "nbformat": 4,
 "nbformat_minor": 2
}
