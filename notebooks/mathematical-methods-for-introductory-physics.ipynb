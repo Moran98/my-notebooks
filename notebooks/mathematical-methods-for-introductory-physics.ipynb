{
 "cells": [
  {
   "cell_type": "markdown",
   "metadata": {},
   "source": [
    "# Mathematical Methods for Introductory Physics\n",
    "### For this notebook I am going to focus on some of the Basics of Maths required with Physics. Things will be quite simple but all Mathematical methods can be expressed in more difficult concepts and techniques.\n",
    "\n",
    "### I do not have any qualifications in Mathematics this notebook is just being made out of my own interest.\n"
   ]
  },
  {
   "cell_type": "code",
   "execution_count": 1,
   "metadata": {
    "_cell_guid": "79c7e3d0-c299-4dcb-8224-4455121ee9b0",
    "_uuid": "d629ff2d2480ee46fbb7e2d37f6b5fab8052498a"
   },
   "outputs": [
    {
     "name": "stdout",
     "output_type": "stream",
     "text": [
      "Mathematical Methods for Introductory Physics\n"
     ]
    }
   ],
   "source": [
    "# @author Aaron Moran\n",
    "# Debugging to get started !\n",
    "print(\"Mathematical Methods for Introductory Physics\")"
   ]
  },
  {
   "cell_type": "markdown",
   "metadata": {},
   "source": [
    "# Numbers \n",
    "### The main topics that i will cover in numbers and implement into small programs will be the following :\n",
    "* Natural or Counting Numbers\n",
    "* Infinity\n",
    "* Integers\n",
    "* Rational Numbers\n",
    "* Irrational Numbers\n",
    "* Real Numbers\n",
    "* Complex Numbers\n"
   ]
  },
  {
   "cell_type": "markdown",
   "metadata": {},
   "source": [
    "# Natural and Counting Numbers"
   ]
  },
  {
   "cell_type": "code",
   "execution_count": 2,
   "metadata": {},
   "outputs": [
    {
     "name": "stdout",
     "output_type": "stream",
     "text": [
      "[1, 2, 3, 4]\n"
     ]
    }
   ],
   "source": [
    "# Starting off quite basic, basic meaning easiest stuff ever\n",
    "numbers = [1,2,3,4]\n",
    "print(numbers)"
   ]
  },
  {
   "cell_type": "markdown",
   "metadata": {},
   "source": [
    "###  Humans and even Dogs can learn numbers, numbers can be used in programming to COUNT and INITITALISE integers and floats.\n"
   ]
  },
  {
   "cell_type": "markdown",
   "metadata": {},
   "source": [
    " ## Standard Arithmetic\n",
    "* Addition\n",
    "* Subtraction\n",
    "* Multiplication\n",
    "* Division"
   ]
  },
  {
   "cell_type": "code",
   "execution_count": 3,
   "metadata": {},
   "outputs": [
    {
     "name": "stdout",
     "output_type": "stream",
     "text": [
      "Addition :  400\n",
      "Subtraction :  200\n",
      "Division :  3.0\n",
      "Multiplication :  30000\n"
     ]
    }
   ],
   "source": [
    "# Sum of natural numbers\n",
    "\n",
    "num = 100\n",
    "num1 = 300\n",
    "\n",
    "sum = num + num1\n",
    "print(\"Addition : \", sum)\n",
    "sum = num1 - num\n",
    "print(\"Subtraction : \", sum)\n",
    "sum = num1/num\n",
    "print(\"Division : \", sum)\n",
    "sum = num1*num\n",
    "print(\"Multiplication : \", sum)"
   ]
  },
  {
   "cell_type": "markdown",
   "metadata": {},
   "source": [
    "# Infinity ∞ \n",
    "> ### It is easy to understand that there is no actual largest number.\n",
    "> ### Imagine there was a largest number and we called it 'L' and we add an integer of 1 to it.\n",
    "> ### So we now have (L + 1)\n",
    "> ### If X = (L + 1) we then know that (L + 1) = M > L contradicting that L was the largest.\n"
   ]
  },
  {
   "cell_type": "code",
   "execution_count": 4,
   "metadata": {},
   "outputs": [
    {
     "name": "stdout",
     "output_type": "stream",
     "text": [
      "inf\n"
     ]
    }
   ],
   "source": [
    "import math\n",
    "test = math.inf\n",
    "print(test)"
   ]
  },
  {
   "cell_type": "code",
   "execution_count": 5,
   "metadata": {},
   "outputs": [
    {
     "name": "stdout",
     "output_type": "stream",
     "text": [
      "inf\n",
      "nan\n"
     ]
    }
   ],
   "source": [
    "# Addition\n",
    "test = math.inf + math.inf\n",
    "print(test)\n",
    "\n",
    "# Subtraction\n",
    "test = math.inf - math.inf\n",
    "print(test)\n",
    "# Result is Undefined"
   ]
  },
  {
   "cell_type": "code",
   "execution_count": 6,
   "metadata": {},
   "outputs": [
    {
     "name": "stdout",
     "output_type": "stream",
     "text": [
      "inf\n"
     ]
    }
   ],
   "source": [
    "# N + Infinity\n",
    "N = 1\n",
    "test = math.inf + N\n",
    "print(test)"
   ]
  },
  {
   "cell_type": "code",
   "execution_count": 7,
   "metadata": {},
   "outputs": [
    {
     "name": "stdout",
     "output_type": "stream",
     "text": [
      "inf\n",
      "nan\n",
      "0.0\n"
     ]
    }
   ],
   "source": [
    "# Multiplication\n",
    "test = math.inf * math.inf\n",
    "print(test)\n",
    "\n",
    "# Divison\n",
    "test= math.inf/math.inf\n",
    "print(test)\n",
    "\n",
    "test = N/math.inf\n",
    "print(test)\n",
    "# But 0*math.inf is not equal to N"
   ]
  },
  {
   "cell_type": "markdown",
   "metadata": {},
   "source": [
    "# Integers\n",
    "### I have already touched on this a little up above, Integers are whole values negative and positive. Negative numbers actually only became considered legit numbers in the 19th century, faily daft. But it makes sense because if i have negative 5 euros in my bank balance then i cant use the negative 5 to buy a spice bag tonight.\n",
    "\n",
    "> ...,−3,−2,−1,0,1,2,3,...\n",
    "\n",
    "## In Physics Integers or Natural numbers are usually represented in the letters i,j,k,l,m,n."
   ]
  },
  {
   "cell_type": "code",
   "execution_count": 8,
   "metadata": {},
   "outputs": [
    {
     "name": "stdout",
     "output_type": "stream",
     "text": [
      "[420, 69]\n"
     ]
    }
   ],
   "source": [
    "num_set = [420,69]\n",
    "print(num_set)"
   ]
  }
 ],
 "metadata": {
  "kernelspec": {
   "display_name": "Python 3",
   "language": "python",
   "name": "python3"
  },
  "language_info": {
   "codemirror_mode": {
    "name": "ipython",
    "version": 3
   },
   "file_extension": ".py",
   "mimetype": "text/x-python",
   "name": "python",
   "nbconvert_exporter": "python",
   "pygments_lexer": "ipython3",
   "version": "3.6.6"
  }
 },
 "nbformat": 4,
 "nbformat_minor": 4
}
