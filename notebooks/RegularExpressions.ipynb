{
 "cells": [
  {
   "cell_type": "markdown",
   "metadata": {},
   "source": [
    " # Regular Expressions \n",
    "Regular Expressions are a sequence of characters that define a search pattern which when implemented in programming can display specific strings from a bulk of text (e.g email addresses). It's main purpose is to find text within a file and is usually built in to every text editor!\n",
    "\n",
    "[My Regex examples (GitHub)](https://github.com/Moran98/graph-theory/tree/master/lab's/regex)\n",
    "\n",
    " \n",
    " ## Basic RegEx\n",
    "\n",
    "* ' ^ ' - The beginning of a line.\n",
    "* ' . ' - Any character.\n",
    "* ' | ' - The OR operator.\n",
    "* ' ? ' - Matches the character before the '?' (zero OR one).\n",
    "* ' + ' - Matches character before '+' (one OR more).\n",
    "* ' * ' - Matches everyhting in place of the Kleene Star. \n",
    "\n",
    "## Implementing Regex in Python\n",
    "It is quite simple to implement regex in Python as it has its own library which carries out regular expressions quite easily."
   ]
  },
  {
   "cell_type": "code",
   "execution_count": 38,
   "metadata": {},
   "outputs": [],
   "source": [
    "# Importing regex\n",
    "import re"
   ]
  },
  {
   "cell_type": "markdown",
   "metadata": {},
   "source": [
    "> Below we are going to initialize a string of text and test it using the regex library."
   ]
  },
  {
   "cell_type": "code",
   "execution_count": 39,
   "metadata": {},
   "outputs": [
    {
     "name": "stdout",
     "output_type": "stream",
     "text": [
      "Hello my name is Aaron Moran, \n",
      "This document will be used to expand my understanding in Regular Expressions for the module Graph Theory.\n",
      "My student email is G00356519@gmit.ie\n"
     ]
    }
   ],
   "source": [
    "sample_text = \"\"\"Hello my name is Aaron Moran, \n",
    "This document will be used to expand my understanding in Regular Expressions for the module Graph Theory.\n",
    "My student email is G00356519@gmit.ie\"\"\"\n",
    "#Display text\n",
    "print(sample_text)"
   ]
  },
  {
   "cell_type": "markdown",
   "metadata": {},
   "source": [
    "> Next I am going to use the regex library to search the sample text to display specific characters from the sample text."
   ]
  },
  {
   "cell_type": "code",
   "execution_count": 40,
   "metadata": {},
   "outputs": [
    {
     "name": "stdout",
     "output_type": "stream",
     "text": [
      "Displaying numerical values :  ['0', '0', '3', '5', '6', '5', '1', '9']\n"
     ]
    }
   ],
   "source": [
    "result = re.findall('[0-9]', sample_text)\n",
    "print(\"Displaying numerical values : \", result)"
   ]
  },
  {
   "cell_type": "markdown",
   "metadata": {},
   "source": [
    "> Now I am going to extract the email address from the sample text!"
   ]
  },
  {
   "cell_type": "code",
   "execution_count": 41,
   "metadata": {},
   "outputs": [
    {
     "name": "stdout",
     "output_type": "stream",
     "text": [
      "The email address found :  ['G00356519@gmit.ie']\n"
     ]
    }
   ],
   "source": [
    "# Extract email from text\n",
    "emailAddress = re.findall('\\S+@\\S+',  sample_text)\n",
    "print(\"The email address found : \", emailAddress)"
   ]
  },
  {
   "cell_type": "markdown",
   "metadata": {},
   "source": [
    "> Vowels"
   ]
  },
  {
   "cell_type": "code",
   "execution_count": 37,
   "metadata": {},
   "outputs": [
    {
     "name": "stdout",
     "output_type": "stream",
     "text": [
      "List of vowels from sample text :  ['e', 'o', 'a', 'e', 'i', 'a', 'o', 'o', 'a', 'i', 'o', 'u', 'e', 'i', 'e', 'u', 'e', 'o', 'e', 'a', 'u', 'e', 'a', 'i', 'i', 'e', 'u', 'a', 'e', 'i', 'o', 'o', 'e', 'o', 'u', 'e', 'a', 'e', 'o', 'u', 'e', 'e', 'a', 'i', 'i', 'i', 'i', 'e']\n"
     ]
    }
   ],
   "source": [
    "vowels = re.findall('[aeiou]', sample_text)\n",
    "print(\"List of vowels from sample text : \", vowels)"
   ]
  }
 ],
 "metadata": {
  "kernelspec": {
   "display_name": "Python 3",
   "language": "python",
   "name": "python3"
  },
  "language_info": {
   "codemirror_mode": {
    "name": "ipython",
    "version": 3
   },
   "file_extension": ".py",
   "mimetype": "text/x-python",
   "name": "python",
   "nbconvert_exporter": "python",
   "pygments_lexer": "ipython3",
   "version": "3.7.4"
  }
 },
 "nbformat": 4,
 "nbformat_minor": 2
}
