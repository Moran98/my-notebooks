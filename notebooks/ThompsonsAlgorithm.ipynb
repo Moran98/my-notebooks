{
 "cells": [
  {
   "cell_type": "markdown",
   "metadata": {},
   "source": [
    "# Thompson's Construction Algorithm\n",
    "> Thompson's Algorithm is the method of converting a regular expression to a NFA (Non-deterministic Finite Automota. The algorithm was created by Ken Thompson who also created the Unix operating system and the B programming language.\n",
    "\n",
    "> Thompson is a pioneer of Computer Science, and is respected worldwide by the community.\n",
    "\n",
    "### Epsilon\n",
    "> The empty expression ε (epsilon) is considered the 5th letter of the Greek alphabet. The epsilon represents empty or Null symbols.\n",
    "##### (ε)\n",
    "![epsilon](EPSILON.png)\n",
    "### Union Expression\n",
    "> Any state getting any input can visit any of the two specified states or it could also chose to visit no state. The null state option can also lead to a state with a value or accept state.\n",
    "\n",
    "### Concatenation Expression\n",
    "> The joining of two string lists \n",
    "````\n",
    "X ={x,xx,xy} -  Always start with 'x'\n",
    "Y = {y,xy,yy} - Always end with 'y'\n",
    "X.Y = {xy,xxy,xxy, xyy, ....}\n",
    "````\n",
    "> All strings above must begin with 'x' and end with 'y'. This means the start state must start with 'x' and accept state must end with a 'y'.\n",
    "\n",
    "##### (X.Y)\n",
    "![X.Y](example.png)\n",
    "\n",
    "### References \n",
    "* Dr. Ian McLoughlin - GMIT Lecturer.\n",
    "* https://youtu.be/84oNUttWlN4?t=105 - Epsilon NFA Examples (timestamped).\n",
    "* https://www.youtube.com/watch?v=3EaFxgel8eg&t=458s - Union, Concatienation Examples.\n",
    "* https://support.microsoft.com/en-us/help/4027344/windows-10-get-microsoft-paint - Art Skills."
   ]
  }
 ],
 "metadata": {
  "kernelspec": {
   "display_name": "Python 3",
   "language": "python",
   "name": "python3"
  },
  "language_info": {
   "codemirror_mode": {
    "name": "ipython",
    "version": 3
   },
   "file_extension": ".py",
   "mimetype": "text/x-python",
   "name": "python",
   "nbconvert_exporter": "python",
   "pygments_lexer": "ipython3",
   "version": "3.7.4"
  }
 },
 "nbformat": 4,
 "nbformat_minor": 2
}
