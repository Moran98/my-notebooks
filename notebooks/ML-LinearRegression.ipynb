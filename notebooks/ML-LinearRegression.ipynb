{
 "cells": [
  {
   "cell_type": "code",
   "execution_count": 215,
   "metadata": {},
   "outputs": [],
   "source": [
    "import pandas as pd\n",
    "import numpy as np\n",
    "import sklearn\n",
    "from sklearn import linear_model\n",
    "from sklearn.utils import shuffle\n",
    "import matplotlib.pyplot as pyplot\n",
    "import pickle\n",
    "from matplotlib import style"
   ]
  },
  {
   "cell_type": "code",
   "execution_count": 216,
   "metadata": {},
   "outputs": [
    {
     "name": "stdout",
     "output_type": "stream",
     "text": [
      "  school sex  age address famsize Pstatus  Medu  Fedu     Mjob      Fjob  ...  \\\n",
      "0     GP   F   18       U     GT3       A     4     4  at_home   teacher  ...   \n",
      "1     GP   F   17       U     GT3       T     1     1  at_home     other  ...   \n",
      "2     GP   F   15       U     LE3       T     1     1  at_home     other  ...   \n",
      "3     GP   F   15       U     GT3       T     4     2   health  services  ...   \n",
      "4     GP   F   16       U     GT3       T     3     3    other     other  ...   \n",
      "\n",
      "  famrel freetime  goout  Dalc  Walc health absences  G1  G2  G3  \n",
      "0      4        3      4     1     1      3        6   5   6   6  \n",
      "1      5        3      3     1     1      3        4   5   5   6  \n",
      "2      4        3      2     2     3      3       10   7   8  10  \n",
      "3      3        2      2     1     1      5        2  15  14  15  \n",
      "4      4        3      2     1     2      5        4   6  10  10  \n",
      "\n",
      "[5 rows x 33 columns]\n"
     ]
    }
   ],
   "source": [
    "# read in data file\n",
    "data = pd.read_csv(\"student-mat.csv\", sep=\";\")\n",
    "print(data.head())"
   ]
  },
  {
   "cell_type": "code",
   "execution_count": 217,
   "metadata": {},
   "outputs": [
    {
     "name": "stdout",
     "output_type": "stream",
     "text": [
      "   G1  G2  G3  studytime  failures  absences\n",
      "0   5   6   6          2         0         6\n",
      "1   5   5   6          2         0         4\n",
      "2   7   8  10          2         3        10\n",
      "3  15  14  15          3         0         2\n",
      "4   6  10  10          2         0         4\n"
     ]
    }
   ],
   "source": [
    "data = data[[\"G1\", \"G2\", \"G3\", \"studytime\", \"failures\", \"absences\"]]\n",
    "print(data.head())"
   ]
  },
  {
   "cell_type": "code",
   "execution_count": 226,
   "metadata": {},
   "outputs": [],
   "source": [
    "# what values to we want to predict\n",
    "predict = \"G3\" # label\n",
    "\n",
    "X = np.array(data.drop([predict], 1))\n",
    "y = np.array(data[predict])\n",
    "x_train, x_test, y_train, y_test = sklearn.model_selection.train_test_split(X,y, test_size=0.1)"
   ]
  },
  {
   "cell_type": "code",
   "execution_count": 219,
   "metadata": {},
   "outputs": [
    {
     "name": "stdout",
     "output_type": "stream",
     "text": [
      "0.7951445586953876\n",
      "0.8711271764484376\n",
      "0.8569482292121067\n",
      "0.8897861613868713\n",
      "0.7552497842922802\n",
      "0.7762940455291525\n",
      "0.7894451394298494\n",
      "0.8452333252522201\n",
      "0.9034549695108318\n",
      "0.9157556449983455\n",
      "0.8261335272835394\n",
      "0.7320403642421982\n",
      "0.7249489684784005\n",
      "0.8415841550273897\n",
      "0.8134182915292171\n",
      "0.6539855921114959\n",
      "0.8047291542315588\n",
      "0.798853872684083\n",
      "0.9071975862786833\n",
      "0.7347633420431916\n",
      "0.7766691756852604\n",
      "0.8754078790471402\n",
      "0.8393199245384051\n",
      "0.7529646380503332\n",
      "0.8410693197841256\n",
      "0.8158668189249256\n",
      "0.7393842425318045\n",
      "0.8466834867832037\n",
      "0.8868914657896622\n",
      "0.8335147970109422\n"
     ]
    }
   ],
   "source": [
    "best = 0\n",
    "\n",
    "for _ in range(30):\n",
    "    x_train, x_test, y_train, y_test = sklearn.model_selection.train_test_split(X,y, test_size=0.1)\n",
    "    # Implement algorithm\n",
    "    linear = linear_model.LinearRegression()\n",
    "\n",
    "    linear.fit(x_train, y_train)\n",
    "    acc = linear.score(x_test, y_test)\n",
    "    print(acc)\n",
    "    \n",
    "    if acc > best:\n",
    "        best = acc\n",
    "        with open(\"studentmodel.pickle\", \"wb\") as f:\n",
    "            pickle.dump(linear, f)\n"
   ]
  },
  {
   "cell_type": "code",
   "execution_count": 220,
   "metadata": {},
   "outputs": [],
   "source": [
    "pickle_in = open(\"studentmodel.pickle\", \"rb\")\n",
    "linear = pickle.load(pickle_in)"
   ]
  },
  {
   "cell_type": "code",
   "execution_count": 221,
   "metadata": {},
   "outputs": [
    {
     "name": "stdout",
     "output_type": "stream",
     "text": [
      "Co:  [ 0.17191616  0.96524992 -0.21509814 -0.34033299  0.04565513]\n",
      "Intercept : -1.5479873124290648\n"
     ]
    }
   ],
   "source": [
    "# (y = mx+c)\n",
    "print(\"Co: \" ,linear.coef_) # (m) coefficient\n",
    "print(\"Intercept :\",linear.intercept_)"
   ]
  },
  {
   "cell_type": "code",
   "execution_count": 222,
   "metadata": {},
   "outputs": [
    {
     "name": "stdout",
     "output_type": "stream",
     "text": [
      "9.576097722412504 [10 10  2  0  4] 11\n",
      "9.576097722412504 [10 10  2  0  4] 10\n",
      "10.385082163697346 [10 11  4  0 10] 11\n",
      "6.01754016458472 [7 8 2 3 2] 9\n",
      "5.582397571960365 [5 8 2 3 0] 7\n",
      "9.1890834212228 [ 9 10  3  0  4] 10\n",
      "15.342534005279319 [16 15  2  0  2] 15\n",
      "9.56539334904509 [11 10  2  0  0] 10\n",
      "6.950728202955224 [9 8 2 1 0] 0\n",
      "12.409360341323424 [14 12  1  0  4] 11\n",
      "10.745741403154755 [11 11  1  0  0] 12\n",
      "11.630385423946553 [10 12  1  0  2] 12\n",
      "9.178379047855385 [10 10  3  0  0] 9\n",
      "11.544021471072181 [12 12  3  0  2] 11\n",
      "14.778657226715893 [12 15  1  0  0] 15\n",
      "9.812604607960779 [ 8 10  1  0 12] 10\n",
      "15.17061784290306 [15 15  2  0  2] 16\n",
      "3.07366212726141 [6 5 1 3 0] 0\n",
      "11.97421774869907 [12 12  1  0  2] 11\n",
      "4.936123143850754 [6 6 2 0 2] 6\n",
      "12.054823643203491 [13 12  1  0  0] 12\n",
      "14.864209436217777 [15 15  3  0  0] 15\n",
      "14.248549904044028 [14 14  1  0  2] 13\n",
      "11.66780934201379 [12 12  2  0  0] 11\n",
      "13.02007355849971 [13 13  1  0  0] 12\n",
      "12.589877280872821 [13 13  3  0  0] 13\n",
      "14.129708348099884 [16 14  4  0  6] 15\n",
      "12.969322059735191 [14 13  3  1 12] 13\n",
      "3.41399511800632 [6 5 1 2 0] 0\n",
      "13.866481917851788 [15 14  4  0  4] 14\n",
      "-1.9245036115959482 [5 0 1 3 0] 0\n",
      "6.0104376115779665 [ 8  6  2  0 18] 7\n",
      "6.95217518394508 [9 8 4 0 2] 8\n",
      "4.153493764298207 [6 5 2 0 6] 6\n",
      "12.46819300612549 [14 12  2  0 10] 11\n",
      "9.39347718666883 [10 10  2  0  0] 10\n",
      "7.681210345929918 [ 9  8  2  1 16] 7\n",
      "13.272231132412866 [12 13  2  0 14] 12\n",
      "9.780491487858534 [11 10  1  0  0] 10\n",
      "8.260472136545307 [ 9  9  2  2 15] 9\n"
     ]
    }
   ],
   "source": [
    "predictions = linear.predict(x_test)\n",
    "\n",
    "# print out all predictions\n",
    "for x in range(len(predictions)):\n",
    "    print(predictions[x], x_test[x], y_test[x])"
   ]
  },
  {
   "cell_type": "code",
   "execution_count": 224,
   "metadata": {},
   "outputs": [
    {
     "data": {
      "image/png": "[encoded data removed]",
      "text/plain": [
       "<Figure size 432x288 with 1 Axes>"
      ]
     },
     "metadata": {},
     "output_type": "display_data"
    }
   ],
   "source": [
    "# Plotting on a grid\n",
    "\n",
    "study = \"studytime\"\n",
    "p = \"G1\"\n",
    "p1 = \"G3\"\n",
    "style.use(\"ggplot\")\n",
    "pyplot.scatter(data[study], data[p1])\n",
    "pyplot.xlabel(\"Study Time(Hrs)\")\n",
    "pyplot.ylabel(\"Final Grade\")\n",
    "pyplot.show()"
   ]
  }
 ],
 "metadata": {
  "kernelspec": {
   "display_name": "Python 3.7 (tensorflow)",
   "language": "python",
   "name": "tensorflow"
  },
  "language_info": {
   "codemirror_mode": {
    "name": "ipython",
    "version": 3
   },
   "file_extension": ".py",
   "mimetype": "text/x-python",
   "name": "python",
   "nbconvert_exporter": "python",
   "pygments_lexer": "ipython3",
   "version": "3.7.7"
  }
 },
 "nbformat": 4,
 "nbformat_minor": 4
}
